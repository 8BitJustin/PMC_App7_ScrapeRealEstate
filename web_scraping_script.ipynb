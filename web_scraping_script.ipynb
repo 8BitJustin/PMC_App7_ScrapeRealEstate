{
 "cells": [
  {
   "cell_type": "code",
   "execution_count": 4,
   "metadata": {},
   "outputs": [],
   "source": [
    "import requests\n",
    "import pandas\n",
    "from bs4 import BeautifulSoup\n",
    "\n",
    "r = requests.get(\"http://www.pyclass.com/real-estate/rock-springs-wy/LCWYROCKSPRINGS/\", headers={'User-agent': 'Mozilla/5.0 (X11; Ubuntu; Linux x86_64; rv:61.0) Gecko/20100101 Firefox/61.0'})\n",
    "c = r.content\n",
    "\n",
    "soup = BeautifulSoup(c, \"html.parser\")\n",
    "\n",
    "all = soup.find_all(\"div\", {\"class\":\"propertyRow\"})\n",
    "\n",
    "# all[0].find(\"h4\", {\"class\": \"propPrice\"}).text.replace(\"\\n\", \"\").replace(\" \", \"\")\n",
    "\n",
    "l = []\n",
    "\n",
    "for item in all:\n",
    "    d = {}\n",
    "    d[\"Address\"] = item.find_all(\"span\", {\"class\", \"propAddressCollapse\"})[0].text\n",
    "    d[\"Locality\"] = item.find_all(\"span\", {\"class\", \"propAddressCollapse\"})[1].text\n",
    "    d[\"Price\"] = item.find(\"h4\", {\"class\", \"propPrice\"}).text.replace(\"\\n\", \"\").replace(\" \", \"\")\n",
    "    try:\n",
    "        d[\"Bedrooms\"] = item.find(\"span\", {\"class\", \"infoBed\"}).find(\"b\").text\n",
    "    except:\n",
    "        d[\"Bedrooms\"] = None\n",
    "    \n",
    "    try:\n",
    "        d[\"Bathrooms\"] = item.find(\"span\", {\"class\", \"infoValueFullBath\"}).find(\"b\").text\n",
    "    except:\n",
    "        d[\"Bathrooms\"] = None\n",
    "    \n",
    "    try:\n",
    "        d[\"SqFt\"] = item.find(\"span\", {\"class\", \"infoSqFt\"}).find(\"b\").text\n",
    "    except:\n",
    "        d[\"SqFt\"] = None\n",
    "    \n",
    "    try:\n",
    "        d[\"Halfbath\"] = item.find(\"span\", {\"class\", \"infoValueHalfBath\"}).find(\"b\").text\n",
    "    except:\n",
    "        d[\"Halfbath\"] = None\n",
    "        \n",
    "    for column_group in item.find_all(\"div\", {\"class\": \"columnGroup\"}):\n",
    "        for feature_group, feature_name in zip(column_group.find_all(\"span\", {\"class\", \"featureGroup\"}), column_group.find_all(\"span\", {\"class\", \"featureName\"})):\n",
    "            if \"Lot Size\" in feature_group.text:\n",
    "                d[\"Lot Size\"] = feature_name.text.replace(\",\", \"\")\n",
    "                \n",
    "    l.append(d)"
   ]
  },
  {
   "cell_type": "code",
   "execution_count": 5,
   "metadata": {},
   "outputs": [
    {
     "ename": "NameError",
     "evalue": "name 'pandas' is not defined",
     "output_type": "error",
     "traceback": [
      "\u001b[1;31m---------------------------------------------------------------------------\u001b[0m",
      "\u001b[1;31mNameError\u001b[0m                                 Traceback (most recent call last)",
      "\u001b[1;32m<ipython-input-5-62e9be100909>\u001b[0m in \u001b[0;36m<module>\u001b[1;34m\u001b[0m\n\u001b[1;32m----> 1\u001b[1;33m \u001b[0mdf\u001b[0m \u001b[1;33m=\u001b[0m \u001b[0mpandas\u001b[0m\u001b[1;33m.\u001b[0m\u001b[0mDataFrame\u001b[0m\u001b[1;33m(\u001b[0m\u001b[0ml\u001b[0m\u001b[1;33m)\u001b[0m\u001b[1;33m\u001b[0m\u001b[1;33m\u001b[0m\u001b[0m\n\u001b[0m",
      "\u001b[1;31mNameError\u001b[0m: name 'pandas' is not defined"
     ]
    }
   ],
   "source": [
    "df = pandas.DataFrame(l)"
   ]
  }
 ],
 "metadata": {
  "kernelspec": {
   "display_name": "Python 3",
   "language": "python",
   "name": "python3"
  },
  "language_info": {
   "codemirror_mode": {
    "name": "ipython",
    "version": 3
   },
   "file_extension": ".py",
   "mimetype": "text/x-python",
   "name": "python",
   "nbconvert_exporter": "python",
   "pygments_lexer": "ipython3",
   "version": "3.7.3"
  }
 },
 "nbformat": 4,
 "nbformat_minor": 2
}
